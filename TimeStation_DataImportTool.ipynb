{
 "cells": [
  {
   "cell_type": "code",
   "execution_count": 1,
   "id": "84375592",
   "metadata": {},
   "outputs": [],
   "source": [
    "import requests\n",
    "import json\n",
    "import numpy as np\n",
    "import pandas as pd\n",
    "import io\n",
    "from datetime import datetime, timedelta\n",
    "pd.set_option('display.max_rows', 500)\n",
    "pd.set_option('display.max_columns', 500)\n",
    "pd.set_option('display.width', 150)"
   ]
  },
  {
   "cell_type": "code",
   "execution_count": 2,
   "id": "d96d4e98",
   "metadata": {},
   "outputs": [
    {
     "name": "stdout",
     "output_type": "stream",
     "text": [
      "200\n"
     ]
    }
   ],
   "source": [
    "response_API = requests.get('https://api.mytimestation.com/v0.1/reports/?api_key=&id=34&Report_StartDate=2014-01-01&Report_EndDate=2014-01-31&exportformat=csv')\n",
    "print(response_API.status_code)\n"
   ]
  },
  {
   "cell_type": "code",
   "execution_count": 159,
   "id": "4e25a167",
   "metadata": {},
   "outputs": [
    {
     "data": {
      "text/plain": [
       "23567"
      ]
     },
     "execution_count": 159,
     "metadata": {},
     "output_type": "execute_result"
    }
   ],
   "source": [
    "data = response_API.text\n",
    "len(data)"
   ]
  },
  {
   "cell_type": "code",
   "execution_count": 160,
   "id": "6a571e89",
   "metadata": {},
   "outputs": [
    {
     "data": {
      "text/html": [
       "<div>\n",
       "<style scoped>\n",
       "    .dataframe tbody tr th:only-of-type {\n",
       "        vertical-align: middle;\n",
       "    }\n",
       "\n",
       "    .dataframe tbody tr th {\n",
       "        vertical-align: top;\n",
       "    }\n",
       "\n",
       "    .dataframe thead th {\n",
       "        text-align: right;\n",
       "    }\n",
       "</style>\n",
       "<table border=\"1\" class=\"dataframe\">\n",
       "  <thead>\n",
       "    <tr style=\"text-align: right;\">\n",
       "      <th></th>\n",
       "      <th>Datetime</th>\n",
       "      <th>Name</th>\n",
       "      <th>Department</th>\n",
       "      <th>Device</th>\n",
       "      <th>Activity</th>\n",
       "      <th>shift_id</th>\n",
       "    </tr>\n",
       "  </thead>\n",
       "  <tbody>\n",
       "    <tr>\n",
       "      <th>0</th>\n",
       "      <td>2014-01-01 10:28:00</td>\n",
       "      <td>Julie Brown</td>\n",
       "      <td>COFFEE</td>\n",
       "      <td>TimeStation-2</td>\n",
       "      <td>Punch In</td>\n",
       "      <td>shft_q02pymx2e8</td>\n",
       "    </tr>\n",
       "    <tr>\n",
       "      <th>1</th>\n",
       "      <td>2014-01-01 10:54:00</td>\n",
       "      <td>Matthew L Whitney</td>\n",
       "      <td>COFFEE</td>\n",
       "      <td>TimeStation-2</td>\n",
       "      <td>Punch In</td>\n",
       "      <td>shft_d0n5ym3lq0</td>\n",
       "    </tr>\n",
       "    <tr>\n",
       "      <th>2</th>\n",
       "      <td>2014-01-01 11:03:00</td>\n",
       "      <td>Frank Ladish</td>\n",
       "      <td>COFFEE</td>\n",
       "      <td>TimeStation-2</td>\n",
       "      <td>Punch In</td>\n",
       "      <td>shft_589o2noo18</td>\n",
       "    </tr>\n",
       "    <tr>\n",
       "      <th>3</th>\n",
       "      <td>2014-01-01 16:22:00</td>\n",
       "      <td>Julie Brown</td>\n",
       "      <td>COFFEE</td>\n",
       "      <td>TimeStation-2</td>\n",
       "      <td>Punch Out</td>\n",
       "      <td>shft_q02pymx2e8</td>\n",
       "    </tr>\n",
       "    <tr>\n",
       "      <th>4</th>\n",
       "      <td>2014-01-01 16:22:00</td>\n",
       "      <td>Frank Ladish</td>\n",
       "      <td>COFFEE</td>\n",
       "      <td>TimeStation-2</td>\n",
       "      <td>Punch Out</td>\n",
       "      <td>shft_589o2noo18</td>\n",
       "    </tr>\n",
       "  </tbody>\n",
       "</table>\n",
       "</div>"
      ],
      "text/plain": [
       "             Datetime               Name Department         Device   Activity  \\\n",
       "0 2014-01-01 10:28:00        Julie Brown     COFFEE  TimeStation-2   Punch In   \n",
       "1 2014-01-01 10:54:00  Matthew L Whitney     COFFEE  TimeStation-2   Punch In   \n",
       "2 2014-01-01 11:03:00       Frank Ladish     COFFEE  TimeStation-2   Punch In   \n",
       "3 2014-01-01 16:22:00        Julie Brown     COFFEE  TimeStation-2  Punch Out   \n",
       "4 2014-01-01 16:22:00       Frank Ladish     COFFEE  TimeStation-2  Punch Out   \n",
       "\n",
       "          shift_id  \n",
       "0  shft_q02pymx2e8  \n",
       "1  shft_d0n5ym3lq0  \n",
       "2  shft_589o2noo18  \n",
       "3  shft_q02pymx2e8  \n",
       "4  shft_589o2noo18  "
      ]
     },
     "execution_count": 160,
     "metadata": {},
     "output_type": "execute_result"
    }
   ],
   "source": [
    "df = pd.read_csv(io.StringIO(data), sep=',', header=0, on_bad_lines='warn', \n",
    "                 parse_dates={'Datetime': ['Date', 'Time']}, \n",
    "                 usecols=['Date', 'Name', 'Department', 'Device', 'Time', 'Activity', 'shift_id'], \n",
    "                 dtype={'Department': 'category', 'Activity': 'category', 'Device': 'category'})\n",
    "df.head()"
   ]
  },
  {
   "cell_type": "code",
   "execution_count": 75,
   "id": "f057790a",
   "metadata": {},
   "outputs": [
    {
     "name": "stdout",
     "output_type": "stream",
     "text": [
      "2016-01-01 2016-01-31\n",
      "2016-02-01 2016-03-02\n",
      "2016-03-03 2016-04-02\n",
      "2016-04-03 2016-05-03\n",
      "2016-05-04 2016-06-03\n"
     ]
    }
   ],
   "source": [
    "x = datetime(2016, 1, 1)\n",
    "td = 0\n",
    "t = 5\n",
    "while t>0:\n",
    "    print((x+timedelta(td)).date(), (x+timedelta(td+30)).date())\n",
    "    td += 31\n",
    "    t -= 1"
   ]
  },
  {
   "cell_type": "code",
   "execution_count": 161,
   "id": "59ad4488",
   "metadata": {},
   "outputs": [],
   "source": [
    "url = 'https://api.mytimestation.com/v0.1/reports/'\n",
    "api_key = '?api_key=e26p34m7nlxw20z8l591eyqvjrd8og3d'\n",
    "report_id = '&id=34'\n",
    "start = ''\n",
    "end = ''\n",
    "export_format = '&exportformat=csv'\n",
    "data_remaining = True\n",
    "d = datetime(2014, 2, 1)\n",
    "td = 0\n",
    "#df = pd.DataFrame()\n",
    "\n",
    "while data_remaining == True:\n",
    "    start = '&Report_StartDate='+str((d+timedelta(td)).date())\n",
    "    end = '&Report_EndDate='+str((d+timedelta(td+30)).date())\n",
    "    api_string = url+api_key+report_id+start+end+export_format    \n",
    "    response_API = requests.get(api_string)\n",
    "    data = response_API.text\n",
    "    if len(data) > 1000:\n",
    "        loop_df = pd.read_csv(io.StringIO(data), sep=',', header=0, on_bad_lines='warn', \n",
    "                     parse_dates={'Datetime': ['Date', 'Time']}, \n",
    "                     usecols=['Date', 'Name', 'Department', 'Device', 'Time', 'Activity', 'shift_id'], \n",
    "                     dtype={'Department': 'category', 'Activity': 'category', 'Device': 'category'})\n",
    "        df = pd.concat([df, loop_df], ignore_index=True)\n",
    "        td += 31\n",
    "    else:\n",
    "        data_remaining = False"
   ]
  },
  {
   "cell_type": "code",
   "execution_count": 162,
   "id": "aa9e95e2",
   "metadata": {},
   "outputs": [
    {
     "data": {
      "text/plain": [
       "Datetime      datetime64[ns]\n",
       "Name                  object\n",
       "Department            object\n",
       "Device                object\n",
       "Activity            category\n",
       "shift_id              object\n",
       "dtype: object"
      ]
     },
     "execution_count": 162,
     "metadata": {},
     "output_type": "execute_result"
    }
   ],
   "source": [
    "df.dtypes"
   ]
  },
  {
   "cell_type": "code",
   "execution_count": 142,
   "id": "3585adc7",
   "metadata": {},
   "outputs": [
    {
     "data": {
      "text/plain": [
       "COFFEE    17432\n",
       "BAKERY     4434\n",
       "Daniel     1288\n",
       "OWNER       526\n",
       "Name: Department, dtype: int64"
      ]
     },
     "execution_count": 142,
     "metadata": {},
     "output_type": "execute_result"
    }
   ],
   "source": [
    "df.Department.value_counts()"
   ]
  },
  {
   "cell_type": "code",
   "execution_count": 149,
   "id": "44c9defc",
   "metadata": {},
   "outputs": [],
   "source": [
    "df['Department'] = df.Department.astype('category')"
   ]
  },
  {
   "cell_type": "code",
   "execution_count": 144,
   "id": "f02b833f",
   "metadata": {},
   "outputs": [
    {
     "data": {
      "text/plain": [
       "TimeStation-6    7865\n",
       "TimeStation-3    7015\n",
       "TimeStation-8    2953\n",
       "TimeStation-7    2420\n",
       "TimeStation-5    1932\n",
       "TimeStation-2     210\n",
       "TimeStation-4     117\n",
       "TimeStation-9       4\n",
       "Name: Device, dtype: int64"
      ]
     },
     "execution_count": 144,
     "metadata": {},
     "output_type": "execute_result"
    }
   ],
   "source": [
    "df.Device.value_counts()"
   ]
  },
  {
   "cell_type": "code",
   "execution_count": 150,
   "id": "61b90b88",
   "metadata": {},
   "outputs": [],
   "source": [
    "df['Device'] = df.Device.astype('category')"
   ]
  },
  {
   "cell_type": "code",
   "execution_count": 153,
   "id": "5a14d027",
   "metadata": {},
   "outputs": [
    {
     "data": {
      "text/plain": [
       "Datetime      datetime64[ns]\n",
       "Name                  object\n",
       "Department          category\n",
       "Device              category\n",
       "Activity            category\n",
       "shift_id              object\n",
       "dtype: object"
      ]
     },
     "execution_count": 153,
     "metadata": {},
     "output_type": "execute_result"
    }
   ],
   "source": [
    "df.dtypes"
   ]
  },
  {
   "cell_type": "code",
   "execution_count": 168,
   "id": "c150da06",
   "metadata": {},
   "outputs": [
    {
     "name": "stdout",
     "output_type": "stream",
     "text": [
      "67\n"
     ]
    }
   ],
   "source": [
    "print(df.Name.nunique())"
   ]
  },
  {
   "cell_type": "code",
   "execution_count": 169,
   "id": "3bd1e10f",
   "metadata": {},
   "outputs": [],
   "source": [
    "df.to_csv('/Users/mymac/Desktop/ts_data.csv')"
   ]
  },
  {
   "cell_type": "code",
   "execution_count": null,
   "id": "a66ecb15",
   "metadata": {},
   "outputs": [],
   "source": []
  }
 ],
 "metadata": {
  "kernelspec": {
   "display_name": "Python 3 (ipykernel)",
   "language": "python",
   "name": "python3"
  },
  "language_info": {
   "codemirror_mode": {
    "name": "ipython",
    "version": 3
   },
   "file_extension": ".py",
   "mimetype": "text/x-python",
   "name": "python",
   "nbconvert_exporter": "python",
   "pygments_lexer": "ipython3",
   "version": "3.9.7"
  }
 },
 "nbformat": 4,
 "nbformat_minor": 5
}
